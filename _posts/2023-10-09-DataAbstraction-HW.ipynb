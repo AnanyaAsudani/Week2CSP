{
 "cells": [
  {
   "cell_type": "markdown",
   "metadata": {},
   "source": [
    "---\n",
    "toc: true\n",
    "comments: true\n",
    "layout: post\n",
    "title: Data Abstraction\n",
    "description: This is the data abstraction homework\n",
    "type: hacks\n",
    "courses: { compsci: {week: 3} }\n",
    "---"
   ]
  },
  {
   "cell_type": "code",
   "execution_count": 2,
   "metadata": {},
   "outputs": [
    {
     "name": "stdout",
     "output_type": "stream",
     "text": [
      "Jamie 5000 years old\n",
      "Grey 1389 years old\n",
      "Cat 4096 years old\n",
      "The oldest person is Jamie. They are 5000 years old\n"
     ]
    }
   ],
   "source": [
    "\n",
    "class Person:\n",
    "    def __init__(self, name, age):\n",
    "        self.name = name\n",
    "        self.age = age\n",
    "\n",
    "def print_people(people):\n",
    "    for person in people:\n",
    "        print(f\"{person.name} {person.age} years old\")\n",
    "\n",
    "def find_oldest_person(people_dict):\n",
    "    if not people_dict:\n",
    "        return \"There are no people in this dictionary\"\n",
    "\n",
    "    oldest_person = max(people_dict, key=people_dict.get)\n",
    "    return f\"The oldest person is {oldest_person}. They are {people_dict[oldest_person]} years old\"\n",
    "\n",
    "# Example:\n",
    "\n",
    "# Create a list of people\n",
    "people_list = [Person(\"Jamie\", 5000), Person(\"Grey\", 1389), Person(\"Cat\", 4096)]\n",
    "\n",
    "# Call the print_people function with the list of people\n",
    "print_people(people_list)\n",
    "\n",
    "# Create a dictionary of people and then add their ages\n",
    "people_dict = {\"Jamie\": 5000, \"Grey\": 1398, \"Cat\": 409}\n",
    "\n",
    "# Call the find_oldest_person function with the dictionary\n",
    "oldest_person_info = find_oldest_person(people_dict)\n",
    "print(oldest_person_info)\n",
    "\n"
   ]
  },
  {
   "cell_type": "markdown",
   "metadata": {},
   "source": [
    "---\n",
    "toc: True\n",
    "comments: True\n",
    "layout: post\n",
    "title: aisdiasdijasidj\n",
    "description: This is a MLA Citation generator for books\n",
    "type: hacks\n",
    "courses: {'compsci': {'week': 5}}\n",
    "---"
   ]
  }
 ],
 "metadata": {
  "kernelspec": {
   "display_name": "Python 3",
   "language": "python",
   "name": "python3"
  },
  "language_info": {
   "codemirror_mode": {
    "name": "ipython",
    "version": 3
   },
   "file_extension": ".py",
   "mimetype": "text/x-python",
   "name": "python",
   "nbconvert_exporter": "python",
   "pygments_lexer": "ipython3",
   "version": "3.11.4"
  },
  "orig_nbformat": 4
 },
 "nbformat": 4,
 "nbformat_minor": 2
}
