{
 "cells": [
  {
   "cell_type": "code",
   "execution_count": null,
   "metadata": {},
   "outputs": [],
   "source": [
    "class Person:\n",
    "    def __init__(self, name, age):\n",
    "        self.name = name\n",
    "        self.age = age\n",
    "\n",
    "def print_people(people):\n",
    "    for person in people:\n",
    "        print(f\"{person.name}: {person.age} years old\")\n",
    "\n",
    "def find_oldest_person(people_dict):\n",
    "    if not people_dict:\n",
    "        return \"No people in the dictionary\"\n",
    "\n",
    "    oldest_person = max(people_dict, key=people_dict.get)\n",
    "    return f\"The oldest person is {oldest_person} with age {people_dict[oldest_person]} years old\"\n",
    "\n",
    "# Example usage:\n",
    "\n",
    "# Create a list of people\n",
    "people_list = [Person(\"Jamie\", 4009), Person(\"Grey\", 1389), Person(\"Cat\", 4096)]\n",
    "\n",
    "# Call the print_people function with the list of people\n",
    "print_people(people_list)\n",
    "\n",
    "# Create a dictionary of people and their ages\n",
    "people_dict = {\"Jamie\": 5000, \"Grey\": 350, \"Cat\": 45}\n",
    "\n",
    "# Call the find_oldest_person function with the dictionary\n",
    "oldest_person_info = find_oldest_person(people_dict)\n",
    "print(oldest_person_info)\n"
   ]
  }
 ],
 "metadata": {
  "language_info": {
   "name": "python"
  },
  "orig_nbformat": 4
 },
 "nbformat": 4,
 "nbformat_minor": 2
}
