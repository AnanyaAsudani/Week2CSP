{
 "cells": [
  {
   "cell_type": "markdown",
   "metadata": {},
   "source": [
    "---\n",
    "toc: true\n",
    "comments: true\n",
    "layout: post\n",
    "title: Boolean if\n",
    "description: This is a MLA Citation generator for books\n",
    "type: hacks\n",
    "courses: { compsci: {week: 5} }\n",
    "---"
   ]
  },
  {
   "cell_type": "code",
   "execution_count": 5,
   "metadata": {},
   "outputs": [
    {
     "name": "stdout",
     "output_type": "stream",
     "text": [
      "| Input A | Input B | Output |\n",
      "|---------|---------|--------|\n",
      "|    0    |    0    |    1   |\n",
      "|    0    |    1    |    0   |\n",
      "|    1    |    0    |    0   |\n",
      "|    1    |    1    |    1   |\n"
     ]
    }
   ],
   "source": [
    "def XNOR_gate(a, b):\n",
    "    return not (a ^ b)\n",
    "\n",
    "# Generating the truth table\n",
    "print(\"| Input A | Input B | Output |\")\n",
    "print(\"|---------|---------|--------|\")\n",
    "print(f\"|    0    |    0    |    {int(XNOR_gate(0, 0))}   |\")\n",
    "print(f\"|    0    |    1    |    {int(XNOR_gate(0, 1))}   |\")\n",
    "print(f\"|    1    |    0    |    {int(XNOR_gate(1, 0))}   |\")\n",
    "print(f\"|    1    |    1    |    {int(XNOR_gate(1, 1))}   |\")\n"
   ]
  },
  {
   "cell_type": "code",
   "execution_count": 6,
   "metadata": {},
   "outputs": [
    {
     "name": "stdout",
     "output_type": "stream",
     "text": [
      "Welcome to the Interactive Logic Gate Program!\n",
      "Choose the operation you want to perform:\n",
      "1. OR Gate\n",
      "2. AND Gate\n",
      "You selected the AND Gate.\n",
      "Result of False AND False is False\n"
     ]
    }
   ],
   "source": [
    "# OR gate\n",
    "def OR_gate(a, b):\n",
    "    return a or b\n",
    "\n",
    "# AND gate\n",
    "def AND_gate(a, b):\n",
    "    return a and b\n",
    "\n",
    "# NOT gate\n",
    "def NOT_gate(a):\n",
    "    return not a\n",
    "\n",
    "# Interactive program implementing logic gates\n",
    "def interactive_logic_gate():\n",
    "    print(\"Welcome to the Interactive Logic Gate Program!\")\n",
    "    print(\"Choose the operation you want to perform:\")\n",
    "    print(\"1. OR Gate\")\n",
    "    print(\"2. AND Gate\")\n",
    "    choice = int(input(\"Enter your choice (1 or 2): \"))\n",
    "\n",
    "    if choice == 1:\n",
    "        print(\"You selected the OR Gate.\")\n",
    "        input1 = bool(int(input(\"Enter the first input (0 or 1): \")))\n",
    "        input2 = bool(int(input(\"Enter the second input (0 or 1): \")))\n",
    "        result = OR_gate(input1, input2)\n",
    "        print(f\"Result of {input1} OR {input2} is {result}\")\n",
    "    elif choice == 2:\n",
    "        print(\"You selected the AND Gate.\")\n",
    "        input1 = bool(int(input(\"Enter the first input (0 or 1): \")))\n",
    "        input2 = bool(int(input(\"Enter the second input (0 or 1): \")))\n",
    "        result = AND_gate(input1, input2)\n",
    "        print(f\"Result of {input1} AND {input2} is {result}\")\n",
    "    else:\n",
    "        print(\"Invalid choice. Please select 1 or 2.\")\n",
    "\n",
    "# Calling the interactive program\n",
    "interactive_logic_gate()\n"
   ]
  },
  {
   "cell_type": "code",
   "execution_count": 7,
   "metadata": {},
   "outputs": [
    {
     "name": "stdout",
     "output_type": "stream",
     "text": [
      "Welcome to Bob's Homework Grading System.\n",
      "The student's homework is complete and submitted on time.\n"
     ]
    }
   ],
   "source": [
    "# Logic gates implementation\n",
    "def AND_gate(a, b):\n",
    "    return a and b\n",
    "\n",
    "def OR_gate(a, b):\n",
    "    return a or b\n",
    "\n",
    "# Function to grade homework\n",
    "def grade_homework(problems_completed, submitted_on_time):\n",
    "    incomplete = OR_gate(NOT_gate(problems_completed), NOT_gate(submitted_on_time))\n",
    "    return not incomplete\n",
    "\n",
    "# NOT gate implementation\n",
    "def NOT_gate(a):\n",
    "    return not a\n",
    "\n",
    "# Interactive program for Bob to grade homework\n",
    "def main():\n",
    "    print(\"Welcome to Bob's Homework Grading System.\")\n",
    "    problems_completed = input(\"Did the student complete all the problems? (yes/no): \").lower()\n",
    "    submitted_on_time = input(\"Did the student submit the homework on time? (yes/no): \").lower()\n",
    "\n",
    "    if grade_homework(problems_completed == 'yes', submitted_on_time == 'yes'):\n",
    "        print(\"The student's homework is complete and submitted on time.\")\n",
    "    else:\n",
    "        print(\"The student's homework is incomplete or not submitted on time.\")\n",
    "\n",
    "# Running the program\n",
    "main()\n"
   ]
  },
  {
   "cell_type": "markdown",
   "metadata": {},
   "source": [
    "Summary:\n",
    "\n",
    "Understanding boolean logic and conditional statements is essential for writing effective, logic-based programs that can make decisions and perform different actions based on specific conditions. These concepts are fundamental building blocks for constructing robust and efficient algorithms and applications.\n",
    "\n",
    "Boolean logic is a fundamental concept in computer science and mathematics that deals with true and false values, often represented as 1 and 0, respectively. It involves logical operations such as AND, OR, NOT, and XOR, which help in evaluating conditions and making decisions in computer programs."
   ]
  }
 ],
 "metadata": {
  "kernelspec": {
   "display_name": "Python 3",
   "language": "python",
   "name": "python3"
  },
  "language_info": {
   "codemirror_mode": {
    "name": "ipython",
    "version": 3
   },
   "file_extension": ".py",
   "mimetype": "text/x-python",
   "name": "python",
   "nbconvert_exporter": "python",
   "pygments_lexer": "ipython3",
   "version": "3.11.4"
  },
  "orig_nbformat": 4
 },
 "nbformat": 4,
 "nbformat_minor": 2
}
