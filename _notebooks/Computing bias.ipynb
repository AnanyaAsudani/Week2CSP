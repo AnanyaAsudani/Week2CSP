{
 "cells": [
  {
   "cell_type": "markdown",
   "metadata": {},
   "source": [
    "Computing Bias Exploration\n",
    "\n",
    "Introduction to Computing Bias\n",
    "\n",
    "A concise overview of computing biases reveals that human biases are often embedded in algorithms or data. To illustrate, consider the Netflix interface, where exclusive content is prominently featured over non-exclusive options. This constitutes a form of computing bias favoring Netflix by ensuring that viewers remain subscribed for unique content. In essence, computing biases are subtle influences shaping user experiences.\n",
    "\n",
    "Explicit Data vs Implicit Data\n",
    "\n",
    "Applications like Netflix amass copious data, categorized as explicit and implicit. Explicit data encompasses user details like name and address, while implicit data, exemplified by Netflix, includes watched content, viewing times, engagement metrics, and genre preferences.\n",
    "\n",
    "Popcorn Hack 1\n",
    "\n",
    "Identify a software app and enumerate explicit and implicit data it collects. For instance, Facebook gathers email addresses and personal information, tracking user connections and content engagement.\n",
    "\n",
    "Loan Company Example\n",
    "\n",
    "Examining biases in lending decisions reveals trends influencing loan officers. For instance, data trends might suggest certain age groups are better loan candidates. While advantageous for lenders, this bias may disadvantage applicants falling outside favored demographics, showcasing the ethical considerations in algorithmic decision-making.\n",
    "\n",
    "Example #2\n",
    "\n",
    "Bias is inherent in content creation, as seen in movies like Despicable Me catering to a younger audience, and Star Wars targeting an older demographic. Similarly, video games exhibit biases, with casual games like Candy Crush leaning towards a relaxed audience, while competitive titles like Counter-Strike cater to a more intense player base.\n",
    "\n",
    "Popcorn Hack 2\n",
    "\n",
    "Identify a biased example in movies, shows, video games, or software. For instance, the Scipy Python package may favor professional researchers, evidenced by complex documentation despite some functions being user-friendly.\n",
    "\n",
    "Mitigating Bias in Algorithms\n",
    "\n",
    "To counteract human biases, programmers must strive for algorithmic neutrality, considering diverse perspectives and actively rejecting inherent biases. Key considerations during development include identifying potential bias sources, assessing amplification or exclusion, seeking feedback from a diverse group, and contemplating diverse usage scenarios.\n",
    "\n",
    "Questions to Ask About Bias\n",
    "\n",
    "When encountering bias in software, essential questions include assessing whether it enhances or excludes, determining intent, and ensuring diverse feedback. Answering these questions aids developers in reducing harmful bias in algorithms and data.\n",
    "\n",
    "Homework Hacks\n",
    "\n",
    "Addressing bias in a predictive policing algorithm involves retraining the model with a more representative dataset. By collecting data from various police administrations and ensuring an equal representation of records, biases towards specific neighborhoods can be minimized. This approach fosters algorithmic fairness by preventing disproportionate targeting and potential civil rights violations.\n",
    "\n"
   ]
  }
 ],
 "metadata": {
  "language_info": {
   "name": "python"
  },
  "orig_nbformat": 4
 },
 "nbformat": 4,
 "nbformat_minor": 2
}
