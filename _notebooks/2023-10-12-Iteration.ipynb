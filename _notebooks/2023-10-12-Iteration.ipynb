{
 "cells": [
  {
   "cell_type": "markdown",
   "metadata": {},
   "source": [
    "---\n",
    "toc: true\n",
    "comments: true\n",
    "layout: post\n",
    "title: Iteration\n",
    "description: This is a MLA Citation generator for books\n",
    "type: hacks\n",
    "courses: { compsci: {week: 5} }\n",
    "---"
   ]
  },
  {
   "cell_type": "code",
   "execution_count": 1,
   "metadata": {},
   "outputs": [
    {
     "name": "stdout",
     "output_type": "stream",
     "text": [
      "Student Dictionary:\n",
      "{'Jenna': 'A', 'Ananya': 'A'}\n"
     ]
    }
   ],
   "source": [
    "# Initialize an empty dictionary to store student names and grades\n",
    "student_dict = {}\n",
    "\n",
    "# Continuously prompt the user for input\n",
    "while True:\n",
    "    student_name = input(\"Enter student name (type 'done' to finish): \")\n",
    "    \n",
    "    # Check if the user wants to stop adding students\n",
    "    if student_name.lower() == 'done':\n",
    "        break\n",
    "\n",
    "    # If not, prompt for the student's grade and add it to the dictionary\n",
    "    student_grade = input(f\"Enter {student_name}'s grade: \")\n",
    "    student_dict[student_name] = student_grade\n",
    "\n",
    "# Print the dictionary containing all the student names and their grades\n",
    "print(\"Student Dictionary:\")\n",
    "print(student_dict)\n"
   ]
  },
  {
   "cell_type": "code",
   "execution_count": 2,
   "metadata": {},
   "outputs": [
    {
     "name": "stdout",
     "output_type": "stream",
     "text": [
      "Highest Score: 95\n",
      "Passing Students: ['Alice', 'Bob', 'Charlie', 'Emily', 'Frank']\n"
     ]
    }
   ],
   "source": [
    "# Sample dictionary containing student names and their corresponding scores\n",
    "student_scores = {\n",
    "    'Alice': 85,\n",
    "    'Bob': 72,\n",
    "    'Charlie': 90,\n",
    "    'David': 65,\n",
    "    'Emily': 78,\n",
    "    'Frank': 95\n",
    "}\n",
    "\n",
    "# Initialize variables for the highest score and a list to store the names of passing students\n",
    "highest_score = 0\n",
    "passing_students = []\n",
    "\n",
    "# Iterate through the dictionary to find the highest score and students who passed\n",
    "for student, score in student_scores.items():\n",
    "    if score > highest_score:\n",
    "        highest_score = score\n",
    "\n",
    "    if score >= 70:  # Assuming passing score is 70\n",
    "        passing_students.append(student)\n",
    "\n",
    "# Print the highest score and the list of passing students\n",
    "print(\"Highest Score:\", highest_score)\n",
    "print(\"Passing Students:\", passing_students)\n"
   ]
  },
  {
   "cell_type": "code",
   "execution_count": 3,
   "metadata": {},
   "outputs": [
    {
     "name": "stdout",
     "output_type": "stream",
     "text": [
      "Please enter a valid integer score.\n",
      "Please enter a valid integer score.\n",
      "Please enter a valid integer score.\n",
      "Please enter a valid integer score.\n",
      "Please enter a valid integer score.\n"
     ]
    }
   ],
   "source": [
    "# Sample dictionary containing student names and their corresponding scores\n",
    "student_scores = {}\n",
    "num_students = int(input(\"Enter the number of students: \"))\n",
    "\n",
    "# Accept student names and scores from the user\n",
    "for _ in range(num_students):\n",
    "    student_name = input(\"Enter student name: \")\n",
    "    while True:\n",
    "        try:\n",
    "            student_score = int(input(f\"Enter {student_name}'s score: \"))\n",
    "            student_scores[student_name] = student_score\n",
    "            break\n",
    "        except ValueError:\n",
    "            print(\"Please enter a valid integer score.\")\n",
    "\n",
    "# Initialize variables for the highest score and a list to store the names of passing students\n",
    "highest_score = 0\n",
    "passing_students = []\n",
    "\n",
    "# Iterate through the dictionary to find the highest score and students who passed\n",
    "for student, score in student_scores.items():\n",
    "    if score > highest_score:\n",
    "        highest_score = score\n",
    "\n",
    "    if score >= 70:  # Assuming passing score is 70\n",
    "        passing_students.append(student)\n",
    "\n",
    "# Print the highest score and the list of passing students\n",
    "print(\"Highest Score:\", highest_score)\n",
    "print(\"Passing Students:\", passing_students)\n"
   ]
  }
 ],
 "metadata": {
  "kernelspec": {
   "display_name": "Python 3",
   "language": "python",
   "name": "python3"
  },
  "language_info": {
   "codemirror_mode": {
    "name": "ipython",
    "version": 3
   },
   "file_extension": ".py",
   "mimetype": "text/x-python",
   "name": "python",
   "nbconvert_exporter": "python",
   "pygments_lexer": "ipython3",
   "version": "3.11.4"
  },
  "orig_nbformat": 4
 },
 "nbformat": 4,
 "nbformat_minor": 2
}
